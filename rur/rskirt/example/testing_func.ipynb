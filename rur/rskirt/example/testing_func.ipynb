{
 "cells": [
  {
   "cell_type": "markdown",
   "metadata": {},
   "source": [
    "# Import Libraries"
   ]
  },
  {
   "cell_type": "code",
   "execution_count": 1,
   "metadata": {
    "ExecuteTime": {
     "end_time": "2023-07-21T06:02:43.099270Z",
     "start_time": "2023-07-21T06:02:41.737063Z"
    }
   },
   "outputs": [],
   "source": [
    "import os\n",
    "import sys\n",
    "from importlib import reload\n",
    "\n",
    "import numpy as np\n",
    "\n",
    "import rur\n",
    "from rur import uri, drawer, utool, uhmi, sci"
   ]
  },
  {
   "cell_type": "markdown",
   "metadata": {},
   "source": [
    "# Test"
   ]
  },
  {
   "cell_type": "markdown",
   "metadata": {},
   "source": [
    "## load sim raw data"
   ]
  },
  {
   "cell_type": "code",
   "execution_count": 44,
   "metadata": {
    "ExecuteTime": {
     "end_time": "2023-07-21T06:54:13.685564Z",
     "start_time": "2023-07-21T06:54:13.676973Z"
    }
   },
   "outputs": [],
   "source": [
    "#!!!!!!!!!!!!!!!!!!!!!!!!\n",
    "\n",
    "nout = 1026\n",
    "idgal = 8\n",
    "\n",
    "repo = '/storage6/NewHorizon'\n",
    "path_in_repo = 'snapshots'\n",
    "mode = 'nh'\n",
    "\n",
    "boxrad = 30\n",
    "\n",
    "#!!!!!!!!!!!!!!!!!!!!!!!!"
   ]
  },
  {
   "cell_type": "code",
   "execution_count": 45,
   "metadata": {
    "ExecuteTime": {
     "end_time": "2023-07-21T06:54:13.868171Z",
     "start_time": "2023-07-21T06:54:13.837376Z"
    }
   },
   "outputs": [
    {
     "name": "stdout",
     "output_type": "stream",
     "text": [
      "[Output 01026] Age (Gyr) : 11.624 / 13.741, z = 0.17149 (a = 0.8536)\n"
     ]
    }
   ],
   "source": [
    "snap = uri.RamsesSnapshot(repo=repo, \n",
    "                          path_in_repo=path_in_repo, \n",
    "                          iout=nout, \n",
    "                          mode=mode, \n",
    "                          longint=False)\n",
    "\n",
    "#boxtokpc = 1/snap.unit['kpc']#/snap.params['aexp']"
   ]
  },
  {
   "cell_type": "code",
   "execution_count": 46,
   "metadata": {
    "ExecuteTime": {
     "end_time": "2023-07-21T06:54:16.409805Z",
     "start_time": "2023-07-21T06:54:13.994844Z"
    }
   },
   "outputs": [
    {
     "name": "stdout",
     "output_type": "stream",
     "text": [
      "[ 334  163  254  198  190  118 3172  100  633  539 3127  289  495  176\n",
      " 2183  454  138 2196  287 1267  117 1090  999  193  223   55   12  532\n",
      "  148  531   57   73 2498   45  749  106  265  145  724  971  839  383\n",
      "  191  580  188  543  300   85  322  135  213  222  723  333  468 1271\n",
      "  352  351  194 1179   48  547  698  369  159  229  307  123   76  127\n",
      "   71  372 2667   44   28   56  124  162  168  402  266   87 1077 4642\n",
      "  211  296  297  450 1055  115  178   80  241  550  886  474  153  818\n",
      "  257  151   51  119  267   61   90   94  155  103  255   59   72  146\n",
      "  196  139  120 2951   79  277   69  690  207   83   70  142 4529  202\n",
      "  200  232  174 1263  212  179 4083  371   86   97   67   50  111    5\n",
      "   38   15  181   18   88 2557  195   22  116  629  822  137 1141  208\n",
      "   40   75  104   65   41   84   17 1723  134  166   63   47   52  214\n",
      "   37 1373  108  107   35   54   29   60 2182   91   46   24  129  990\n",
      "   66   92  688    3   21 1730  169  149   26   11   68   36   64   13\n",
      "   23  121   20    7  604   82   19    1  364   10    8   25  467  969\n",
      "   14    9    2    4]\n"
     ]
    }
   ],
   "source": [
    "mlow = 10**9\n",
    "mupp = 1e13\n",
    "\n",
    "gals, pid = uhmi.HaloMaker.load(snap, \n",
    "                                galaxy=True, \n",
    "                                full_path='/storage6/NewHorizon/galaxy_old',\n",
    "                                load_parts=True,\n",
    "                                double_precision=True)\n",
    "gals.sort(order='m')\n",
    "gals = gals[(mlow<=gals['mvir'])*(gals['mvir']<mupp)]\n",
    "print(gals['id'])"
   ]
  },
  {
   "cell_type": "code",
   "execution_count": 47,
   "metadata": {
    "ExecuteTime": {
     "end_time": "2023-07-21T06:54:16.415034Z",
     "start_time": "2023-07-21T06:54:16.412002Z"
    }
   },
   "outputs": [],
   "source": [
    "gal = gals[gals['id']==idgal]"
   ]
  },
  {
   "cell_type": "code",
   "execution_count": 48,
   "metadata": {
    "ExecuteTime": {
     "end_time": "2023-07-21T06:54:27.935747Z",
     "start_time": "2023-07-21T06:54:16.417133Z"
    }
   },
   "outputs": [
    {
     "name": "stdout",
     "output_type": "stream",
     "text": [
      "[Output 01026] Age (Gyr) : 11.624 / 13.741, z = 0.17149 (a = 0.8536)\n",
      "Reading 128 part files (778.5 MiB) in /storage6/NewHorizon/snapshots/output_01026... \n",
      "Done (2.252s).\n",
      "Masking particles... 9008886 / 9450156 (0.9533)\n",
      "Done (0.715s).\n",
      "[clear] Clearing memory\n",
      "\tUnlink `psm_10ed4f4e`\n",
      "[Output 01026] Age (Gyr) : 11.624 / 13.741, z = 0.17149 (a = 0.8536)\n",
      "Reading 128 AMR & hydro files (1.304 GiB) in /storage6/NewHorizon/snapshots/output_01026... \n",
      "Done (4.461s).\n",
      "Masking cells... 5582179 / 6660944 (0.8380)\n",
      "Done (0.462s).\n"
     ]
    }
   ],
   "source": [
    "snap.clear()\n",
    "snap = uri.RamsesSnapshot(repo=repo, \n",
    "                          path_in_repo=path_in_repo, \n",
    "                          iout=nout, \n",
    "                          mode=mode)\n",
    "\n",
    "boxtokpc = 1/snap.unit['kpc']#/snap.params['aexp']\n",
    "snap.set_box_halo(gal, \n",
    "                  use_halo_radius=False, \n",
    "                  radius=boxrad/boxtokpc)\n",
    "\n",
    "star = snap.get_part(pname='star')\n",
    "\n",
    "snap.clear()\n",
    "snap = uri.RamsesSnapshot(repo=repo, \n",
    "                          path_in_repo=path_in_repo, \n",
    "                          iout=nout, \n",
    "                          mode=mode)\n",
    "snap.set_box_halo(gal, \n",
    "                  use_halo_radius=False, \n",
    "                  radius=boxrad/boxtokpc)\n",
    "snap.get_cell()\n",
    "cell = snap.cell    "
   ]
  },
  {
   "cell_type": "markdown",
   "metadata": {},
   "source": [
    "## load param file"
   ]
  },
  {
   "cell_type": "code",
   "execution_count": 49,
   "metadata": {
    "ExecuteTime": {
     "end_time": "2023-07-21T06:54:27.944576Z",
     "start_time": "2023-07-21T06:54:27.938026Z"
    }
   },
   "outputs": [],
   "source": [
    "repo_par = '/home/jangjk/SKIRT_DIR/rur_dir/'\n",
    "fname_par = 'parameter_test'\n",
    "\n",
    "try:\n",
    "    par = reload(sys.modules[fname_par])\n",
    "except:\n",
    "    pass\n",
    "\n",
    "sys.path.append(repo_par)\n",
    "par = __import__(fname_par)"
   ]
  },
  {
   "cell_type": "code",
   "execution_count": 50,
   "metadata": {
    "ExecuteTime": {
     "end_time": "2023-07-21T06:54:27.949960Z",
     "start_time": "2023-07-21T06:54:27.946075Z"
    }
   },
   "outputs": [
    {
     "data": {
      "text/plain": [
       "7.301029995663981"
      ]
     },
     "execution_count": 50,
     "metadata": {},
     "output_type": "execute_result"
    }
   ],
   "source": [
    "np.log10(par.N_phot)"
   ]
  },
  {
   "cell_type": "markdown",
   "metadata": {},
   "source": [
    "## execute SKIRT "
   ]
  },
  {
   "cell_type": "code",
   "execution_count": 51,
   "metadata": {
    "ExecuteTime": {
     "end_time": "2023-07-21T07:17:39.085302Z",
     "start_time": "2023-07-21T06:54:27.951289Z"
    },
    "scrolled": true
   },
   "outputs": [
    {
     "name": "stdout",
     "output_type": "stream",
     "text": [
      "done -- basic setting\n",
      "done -- galaxy rotation\n",
      "done -- writing old population\n",
      "done -- writing young population\n",
      "done -- writing gas cells\n",
      "21/07/2023 15:56:30.160   Welcome to SKIRT v9.0 (git a313a94 built on 16/06/2022 at 16:37:32)\n",
      "21/07/2023 15:56:30.160   Running on gc7 for jangjk\n",
      "21/07/2023 15:56:30.160   Constructing a simulation from ski file '../nh_ext.ski'...\n",
      "21/07/2023 15:56:30.487   Starting simulation nh_ext using 40 threads and a single process...\n",
      "21/07/2023 15:56:30.487   Starting setup...\n",
      "21/07/2023 15:56:30.487     Panchromatic wavelength regime\n",
      "21/07/2023 15:56:30.487     With transfer medium\n",
      "21/07/2023 15:56:30.487     Model and grid symmetry: 3D\n",
      "21/07/2023 15:56:30.487   BruzualCharlotSEDFamily opened stored table /home/jangjk/SKIRT_DIR/SKIRT9/resources/SKIRT9_Resources_Core/SED/BruzualCharlotSEDFamily_Chabrier_hr.stab\n",
      "21/07/2023 15:56:30.487   ParticleSource reads smoothed source particles from text file /home/jangjk/SKIRT_DIR/rur_dir/testing//part_old.txt...\n",
      "21/07/2023 15:56:30.488     Column 1: position x (kpc) <-- position x\n",
      "21/07/2023 15:56:30.488     Column 2: position y (kpc) <-- position y\n",
      "21/07/2023 15:56:30.488     Column 3: position z (kpc) <-- position z\n",
      "21/07/2023 15:56:30.488     Column 4: size h (pc) <-- smoothing length\n",
      "21/07/2023 15:56:30.488     Column 5: initial mass (Msun) <-- mass\n",
      "21/07/2023 15:56:30.488     Column 6: metallicity (1) <-- metallicity\n",
      "21/07/2023 15:56:30.488     Column 7: age (Gyr) <-- age\n",
      "21/07/2023 15:57:35.247   Done reading\n",
      "21/07/2023 15:57:35.247     Number of particles: 9005501\n",
      "21/07/2023 15:57:35.287   Calculating luminosities for 9005501 imported entities...\n",
      "21/07/2023 15:57:49.647   Calculated luminosities: 0.1%\n",
      "21/07/2023 15:58:04.008   Calculated luminosities: 4.6%\n",
      "21/07/2023 15:58:15.698   Calculated luminosities: 9.0%\n",
      "21/07/2023 15:58:30.064   Calculated luminosities: 12.6%\n",
      "21/07/2023 15:58:44.427   Calculated luminosities: 17.1%\n",
      "21/07/2023 15:58:56.118   Calculated luminosities: 21.5%\n",
      "21/07/2023 15:59:10.476   Calculated luminosities: 25.1%\n",
      "21/07/2023 15:59:24.831   Calculated luminosities: 29.6%\n",
      "21/07/2023 15:59:36.521   Calculated luminosities: 34.0%\n",
      "21/07/2023 15:59:50.879   Calculated luminosities: 37.6%\n",
      "21/07/2023 16:00:05.239   Calculated luminosities: 42.1%\n",
      "21/07/2023 16:00:16.933   Calculated luminosities: 46.5%\n",
      "21/07/2023 16:00:31.296   Calculated luminosities: 50.1%\n",
      "21/07/2023 16:00:45.656   Calculated luminosities: 54.6%\n",
      "21/07/2023 16:00:57.340   Calculated luminosities: 59.0%\n",
      "21/07/2023 16:01:11.690   Calculated luminosities: 62.6%\n",
      "21/07/2023 16:01:26.039   Calculated luminosities: 67.1%\n",
      "21/07/2023 16:01:37.726   Calculated luminosities: 71.5%\n",
      "21/07/2023 16:01:52.082   Calculated luminosities: 75.1%\n",
      "21/07/2023 16:02:06.435   Calculated luminosities: 79.6%\n",
      "21/07/2023 16:02:18.119   Calculated luminosities: 84.0%\n",
      "21/07/2023 16:02:32.467   Calculated luminosities: 87.6%\n",
      "21/07/2023 16:02:46.816   Calculated luminosities: 92.1%\n",
      "21/07/2023 16:02:58.499   Calculated luminosities: 96.5%\n",
      "21/07/2023 16:03:00.562   MappingsSEDFamily opened stored table /home/jangjk/SKIRT_DIR/SKIRT9/resources/SKIRT9_Resources_Core/SED/MappingsSEDFamily.stab\n",
      "21/07/2023 16:03:00.562   ParticleSource reads smoothed source particles from text file /home/jangjk/SKIRT_DIR/rur_dir/testing//part_young.txt...\n",
      "21/07/2023 16:03:00.562     Column 1: position x (kpc) <-- position x\n",
      "21/07/2023 16:03:00.562     Column 2: position y (kpc) <-- position y\n",
      "21/07/2023 16:03:00.562     Column 3: position z (kpc) <-- position z\n",
      "21/07/2023 16:03:00.562     Column 4: size h (pc) <-- smoothing length\n",
      "21/07/2023 16:03:00.562     Column 5: star formation rate (Msun/yr) <-- star formation rate\n",
      "21/07/2023 16:03:00.562     Column 6: metallicity (1) <-- metallicity\n",
      "21/07/2023 16:03:00.562     Column 7: compactness (1) <-- compactness\n",
      "21/07/2023 16:03:00.562     Column 8: pressure (Pa) <-- pressure\n",
      "21/07/2023 16:03:00.562     Column 9: covering factor (1) <-- covering factor\n",
      "21/07/2023 16:03:00.596   Done reading\n",
      "21/07/2023 16:03:00.596     Number of particles: 3385\n",
      "21/07/2023 16:03:00.596   Calculating luminosities for 3385 imported entities...\n",
      "21/07/2023 16:03:00.615   BroadBand opened stored table /home/jangjk/SKIRT_DIR/SKIRT9/resources/SKIRT9_Resources_Core/Band/GALEX_GALEX_FUV_BroadBand.stab\n",
      "21/07/2023 16:03:00.616   BroadBand opened stored table /home/jangjk/SKIRT_DIR/SKIRT9/resources/SKIRT9_Resources_Core/Band/GALEX_GALEX_NUV_BroadBand.stab\n",
      "21/07/2023 16:03:00.616   BroadBand opened stored table /home/jangjk/SKIRT_DIR/SKIRT9/resources/SKIRT9_Resources_Core/Band/SLOAN_SDSS_U_BroadBand.stab\n",
      "21/07/2023 16:03:00.616   BroadBand opened stored table /home/jangjk/SKIRT_DIR/SKIRT9/resources/SKIRT9_Resources_Core/Band/SLOAN_SDSS_G_BroadBand.stab\n",
      "21/07/2023 16:03:00.616   BroadBand opened stored table /home/jangjk/SKIRT_DIR/SKIRT9/resources/SKIRT9_Resources_Core/Band/SLOAN_SDSS_R_BroadBand.stab\n",
      "21/07/2023 16:03:00.616   BroadBand opened stored table /home/jangjk/SKIRT_DIR/SKIRT9/resources/SKIRT9_Resources_Core/Band/SLOAN_SDSS_I_BroadBand.stab\n",
      "21/07/2023 16:03:00.616   BroadBand opened stored table /home/jangjk/SKIRT_DIR/SKIRT9/resources/SKIRT9_Resources_Core/Band/SLOAN_SDSS_Z_BroadBand.stab\n",
      "21/07/2023 16:03:00.616   BroadBand opened stored table /home/jangjk/SKIRT_DIR/SKIRT9/resources/SKIRT9_Resources_Core/Band/2MASS_2MASS_J_BroadBand.stab\n",
      "21/07/2023 16:03:00.616   BroadBand opened stored table /home/jangjk/SKIRT_DIR/SKIRT9/resources/SKIRT9_Resources_Core/Band/2MASS_2MASS_H_BroadBand.stab\n",
      "21/07/2023 16:03:00.616   BroadBand opened stored table /home/jangjk/SKIRT_DIR/SKIRT9/resources/SKIRT9_Resources_Core/Band/2MASS_2MASS_KS_BroadBand.stab\n",
      "21/07/2023 16:03:00.639   ThemisDustMix opened stored table /home/jangjk/SKIRT_DIR/SKIRT9/resources/SKIRT9_Resources_Core/OpticalProps/DustEM_aOlM5_OpticalProps.stab\n",
      "21/07/2023 16:03:02.013   ThemisDustMix opened stored table /home/jangjk/SKIRT_DIR/SKIRT9/resources/SKIRT9_Resources_Core/OpticalProps/DustEM_aPyM5_OpticalProps.stab\n",
      "21/07/2023 16:03:03.386   ThemisDustMix opened stored table /home/jangjk/SKIRT_DIR/SKIRT9/resources/SKIRT9_Resources_Core/OpticalProps/DustEM_CM20_OpticalProps.stab\n",
      "21/07/2023 16:03:06.392   ThemisDustMix allocated 283 KB of memory\n",
      "21/07/2023 16:03:06.392   ParticleMedium reads smoothed particles from text file /home/jangjk/SKIRT_DIR/rur_dir/testing//gas_cell.txt...\n",
      "21/07/2023 16:03:06.393     Column 1: position x (kpc) <-- position x\n",
      "21/07/2023 16:03:06.393     Column 2: position y (kpc) <-- position y\n",
      "21/07/2023 16:03:06.393     Column 3: position z (kpc) <-- position z\n",
      "21/07/2023 16:03:06.393     Column 4: size h (kpc) <-- smoothing length\n",
      "21/07/2023 16:03:06.393     Column 5: mass (Msun) <-- mass\n",
      "21/07/2023 16:03:06.393     Column 6: metallicity (1) <-- metallicity\n",
      "21/07/2023 16:03:06.393     Column 7: temperature (K) <-- Temperature\n",
      "21/07/2023 16:03:47.534   Done reading\n",
      "21/07/2023 16:03:47.534     Number of high-temperature particles ignored: 1867637\n",
      "21/07/2023 16:03:47.534     Number of particles retained: 3714542\n",
      "21/07/2023 16:03:47.711     Total original mass : 4.9085e+10 Msun\n",
      "21/07/2023 16:03:47.711     Total metallic mass : 5.3761e+08 Msun\n",
      "21/07/2023 16:03:47.711     Total effective mass: 2.1504e+08 Msun\n",
      "21/07/2023 16:03:47.711   Constructing intermediate 30x30x30 grid for particles...\n",
      "21/07/2023 16:03:48.555     Smallest number of particles per cell: 0\n",
      "21/07/2023 16:03:48.555     Largest  number of particles per cell: 13804\n",
      "21/07/2023 16:03:48.555     Average  number of particles per cell: 748.5\n",
      "21/07/2023 16:03:48.600   Constructing the spatial tree grid...\n",
      "21/07/2023 16:03:48.600   Subdividing level 0: 1 nodes\n",
      "21/07/2023 16:03:48.600   Subdividing level 1: 8 nodes\n",
      "21/07/2023 16:03:48.601   Subdividing level 2: 64 nodes\n",
      "21/07/2023 16:03:48.601   Subdividing level 3: 512 nodes\n",
      "21/07/2023 16:03:48.621   Subdividing level 4: 920 nodes\n",
      "21/07/2023 16:03:48.653   Subdividing level 5: 3872 nodes\n",
      "21/07/2023 16:03:48.803   Subdividing level 6: 19032 nodes\n",
      "21/07/2023 16:03:49.519   Subdividing level 7: 99320 nodes\n",
      "21/07/2023 16:03:53.377   Subdividing level 8: 417728 nodes\n",
      "21/07/2023 16:03:58.431   Evaluation for level 8: 35.3%\n",
      "21/07/2023 16:04:03.457   Evaluation for level 8: 73.4%\n"
     ]
    },
    {
     "name": "stdout",
     "output_type": "stream",
     "text": [
      "21/07/2023 16:04:08.789   Evaluation for level 8: 99.7%\n",
      "21/07/2023 16:04:10.078   Subdividing level 9: 972376 nodes\n",
      "21/07/2023 16:04:15.116   Evaluation for level 9: 13.4%\n",
      "21/07/2023 16:04:20.426   Evaluation for level 9: 30.3%\n",
      "21/07/2023 16:04:25.480   Evaluation for level 9: 43.7%\n",
      "21/07/2023 16:04:30.586   Evaluation for level 9: 55.3%\n",
      "21/07/2023 16:04:35.628   Evaluation for level 9: 68.7%\n",
      "21/07/2023 16:04:40.980   Evaluation for level 9: 85.0%\n",
      "21/07/2023 16:04:46.092   Evaluation for level 9: 98.4%\n",
      "21/07/2023 16:04:51.746   Subdividing level 10: 1065928 nodes\n",
      "21/07/2023 16:04:56.885   Evaluation for level 10: 9.4%\n",
      "21/07/2023 16:05:01.885   Evaluation for level 10: 18.4%\n",
      "21/07/2023 16:05:07.136   Evaluation for level 10: 30.9%\n",
      "21/07/2023 16:05:12.194   Evaluation for level 10: 41.6%\n",
      "21/07/2023 16:05:17.578   Evaluation for level 10: 47.2%\n",
      "21/07/2023 16:05:22.596   Evaluation for level 10: 56.6%\n",
      "21/07/2023 16:05:27.666   Evaluation for level 10: 66.6%\n",
      "21/07/2023 16:05:32.804   Evaluation for level 10: 75.9%\n",
      "21/07/2023 16:05:37.859   Evaluation for level 10: 85.9%\n",
      "21/07/2023 16:05:43.117   Evaluation for level 10: 97.2%\n",
      "21/07/2023 16:05:50.534   Evaluation for level 10: 100.0%\n",
      "21/07/2023 16:05:54.876   Finished construction of the spatial tree grid\n",
      "21/07/2023 16:05:54.876   Number of cells at each level in the tree hierarchy:\n",
      "21/07/2023 16:05:54.876     Level  0:        0 (  0.0%)  |\n",
      "21/07/2023 16:05:54.876     Level  1:        0 (  0.0%)  |\n",
      "21/07/2023 16:05:54.876     Level  2:        0 (  0.0%)  |\n",
      "21/07/2023 16:05:54.876     Level  3:      397 (  0.0%)  |\n",
      "21/07/2023 16:05:54.876     Level  4:      436 (  0.0%)  |\n",
      "21/07/2023 16:05:54.876     Level  5:     1493 (  0.0%)  |\n",
      "21/07/2023 16:05:54.876     Level  6:     6617 (  0.2%)  |\n",
      "21/07/2023 16:05:54.876     Level  7:    47104 (  1.6%)  |*\n",
      "21/07/2023 16:05:54.876     Level  8:   296181 (  9.8%)  |******\n",
      "21/07/2023 16:05:54.876     Level  9:   839135 ( 27.7%)  |******************\n",
      "21/07/2023 16:05:54.876     Level 10:   955812 ( 31.6%)  |********************\n",
      "21/07/2023 16:05:54.876     Level 11:   880928 ( 29.1%)  |******************\n",
      "21/07/2023 16:05:54.876     TOTAL   :  3028103 (100.0%)\n",
      "21/07/2023 16:05:54.904   MediumSystem allocated 46.2 MB of memory\n",
      "21/07/2023 16:05:54.904   Calculating medium properties for 3028103 cells...\n",
      "21/07/2023 16:06:00.521   Calculated medium properties: 0.3%\n",
      "21/07/2023 16:06:05.591   Calculated medium properties: 6.6%\n",
      "21/07/2023 16:06:10.916   Calculated medium properties: 13.4%\n",
      "21/07/2023 16:06:15.964   Calculated medium properties: 19.4%\n",
      "21/07/2023 16:06:21.196   Calculated medium properties: 23.4%\n",
      "21/07/2023 16:06:27.041   Calculated medium properties: 28.7%\n",
      "21/07/2023 16:06:33.913   Calculated medium properties: 35.0%\n",
      "21/07/2023 16:06:38.964   Calculated medium properties: 40.9%\n",
      "21/07/2023 16:06:44.450   Calculated medium properties: 44.1%\n",
      "21/07/2023 16:06:49.844   Calculated medium properties: 49.4%\n",
      "21/07/2023 16:06:54.994   Calculated medium properties: 53.7%\n",
      "21/07/2023 16:07:00.193   Calculated medium properties: 57.5%\n",
      "21/07/2023 16:07:07.171   Calculated medium properties: 60.9%\n",
      "21/07/2023 16:07:12.403   Calculated medium properties: 65.6%\n",
      "21/07/2023 16:07:17.672   Calculated medium properties: 67.5%\n",
      "21/07/2023 16:07:22.900   Calculated medium properties: 70.0%\n",
      "21/07/2023 16:07:28.060   Calculated medium properties: 71.6%\n",
      "21/07/2023 16:07:33.263   Calculated medium properties: 73.7%\n",
      "21/07/2023 16:07:38.746   Calculated medium properties: 77.5%\n",
      "21/07/2023 16:07:44.700   Calculated medium properties: 79.7%\n",
      "21/07/2023 16:07:51.098   Calculated medium properties: 83.7%\n",
      "21/07/2023 16:07:58.006   Calculated medium properties: 85.9%\n",
      "21/07/2023 16:08:03.939   Calculated medium properties: 88.8%\n",
      "21/07/2023 16:08:10.177   Calculated medium properties: 90.9%\n",
      "21/07/2023 16:08:16.251   Calculated medium properties: 93.4%\n",
      "21/07/2023 16:08:21.298   Calculated medium properties: 97.2%\n",
      "21/07/2023 16:08:26.946   Calculated medium properties: 98.4%\n",
      "21/07/2023 16:08:36.258   Calculated medium properties: 99.1%\n",
      "21/07/2023 16:08:54.785   Calculated medium properties: 99.7%\n",
      "21/07/2023 16:08:55.724   Done calculating cell densities\n",
      "21/07/2023 16:08:55.921   FullInstrument rot_000_000 allocated 330 MB of memory\n",
      "21/07/2023 16:08:55.922   SEDInstrument rot_000_000_05 allocated 117 KB of memory\n",
      "21/07/2023 16:08:55.922   SEDInstrument rot_000_000_10 allocated 117 KB of memory\n",
      "21/07/2023 16:08:55.922   SEDInstrument rot_000_000_15 allocated 117 KB of memory\n",
      "21/07/2023 16:08:55.922   SEDInstrument rot_000_000_20 allocated 117 KB of memory\n",
      "21/07/2023 16:08:56.113   FullInstrument rot_010_000 allocated 330 MB of memory\n",
      "21/07/2023 16:08:56.113   SEDInstrument rot_010_000_05 allocated 117 KB of memory\n",
      "21/07/2023 16:08:56.113   SEDInstrument rot_010_000_10 allocated 117 KB of memory\n",
      "21/07/2023 16:08:56.113   SEDInstrument rot_010_000_15 allocated 117 KB of memory\n",
      "21/07/2023 16:08:56.113   SEDInstrument rot_010_000_20 allocated 117 KB of memory\n",
      "21/07/2023 16:08:56.305   FullInstrument rot_020_000 allocated 330 MB of memory\n",
      "21/07/2023 16:08:56.305   SEDInstrument rot_020_000_05 allocated 117 KB of memory\n",
      "21/07/2023 16:08:56.305   SEDInstrument rot_020_000_10 allocated 117 KB of memory\n",
      "21/07/2023 16:08:56.305   SEDInstrument rot_020_000_15 allocated 117 KB of memory\n",
      "21/07/2023 16:08:56.305   SEDInstrument rot_020_000_20 allocated 117 KB of memory\n",
      "21/07/2023 16:08:56.498   FullInstrument rot_030_000 allocated 330 MB of memory\n",
      "21/07/2023 16:08:56.498   SEDInstrument rot_030_000_05 allocated 117 KB of memory\n",
      "21/07/2023 16:08:56.498   SEDInstrument rot_030_000_10 allocated 117 KB of memory\n",
      "21/07/2023 16:08:56.498   SEDInstrument rot_030_000_15 allocated 117 KB of memory\n",
      "21/07/2023 16:08:56.498   SEDInstrument rot_030_000_20 allocated 117 KB of memory\n",
      "21/07/2023 16:08:56.690   FullInstrument rot_040_000 allocated 330 MB of memory\n",
      "21/07/2023 16:08:56.690   SEDInstrument rot_040_000_05 allocated 117 KB of memory\n",
      "21/07/2023 16:08:56.690   SEDInstrument rot_040_000_10 allocated 117 KB of memory\n",
      "21/07/2023 16:08:56.690   SEDInstrument rot_040_000_15 allocated 117 KB of memory\n",
      "21/07/2023 16:08:56.690   SEDInstrument rot_040_000_20 allocated 117 KB of memory\n",
      "21/07/2023 16:08:56.881   FullInstrument rot_050_000 allocated 330 MB of memory\n",
      "21/07/2023 16:08:56.881   SEDInstrument rot_050_000_05 allocated 117 KB of memory\n",
      "21/07/2023 16:08:56.881   SEDInstrument rot_050_000_10 allocated 117 KB of memory\n",
      "21/07/2023 16:08:56.881   SEDInstrument rot_050_000_15 allocated 117 KB of memory\n",
      "21/07/2023 16:08:56.881   SEDInstrument rot_050_000_20 allocated 117 KB of memory\n",
      "21/07/2023 16:08:57.073   FullInstrument rot_060_000 allocated 330 MB of memory\n",
      "21/07/2023 16:08:57.073   SEDInstrument rot_060_000_05 allocated 117 KB of memory\n",
      "21/07/2023 16:08:57.073   SEDInstrument rot_060_000_10 allocated 117 KB of memory\n",
      "21/07/2023 16:08:57.073   SEDInstrument rot_060_000_15 allocated 117 KB of memory\n",
      "21/07/2023 16:08:57.073   SEDInstrument rot_060_000_20 allocated 117 KB of memory\n",
      "21/07/2023 16:08:57.265   FullInstrument rot_070_000 allocated 330 MB of memory\n",
      "21/07/2023 16:08:57.265   SEDInstrument rot_070_000_05 allocated 117 KB of memory\n",
      "21/07/2023 16:08:57.265   SEDInstrument rot_070_000_10 allocated 117 KB of memory\n",
      "21/07/2023 16:08:57.265   SEDInstrument rot_070_000_15 allocated 117 KB of memory\n",
      "21/07/2023 16:08:57.265   SEDInstrument rot_070_000_20 allocated 117 KB of memory\n",
      "21/07/2023 16:08:57.458   FullInstrument rot_080_000 allocated 330 MB of memory\n",
      "21/07/2023 16:08:57.458   SEDInstrument rot_080_000_05 allocated 117 KB of memory\n",
      "21/07/2023 16:08:57.458   SEDInstrument rot_080_000_10 allocated 117 KB of memory\n",
      "21/07/2023 16:08:57.458   SEDInstrument rot_080_000_15 allocated 117 KB of memory\n",
      "21/07/2023 16:08:57.458   SEDInstrument rot_080_000_20 allocated 117 KB of memory\n",
      "21/07/2023 16:08:57.649   FullInstrument rot_090_000 allocated 330 MB of memory\n",
      "21/07/2023 16:08:57.649   SEDInstrument rot_090_000_05 allocated 117 KB of memory\n",
      "21/07/2023 16:08:57.649   SEDInstrument rot_090_000_10 allocated 117 KB of memory\n",
      "21/07/2023 16:08:57.650   SEDInstrument rot_090_000_15 allocated 117 KB of memory\n",
      "21/07/2023 16:08:57.650   SEDInstrument rot_090_000_20 allocated 117 KB of memory\n",
      "\u001b[32m21/07/2023 16:08:57.650 - Finished setup in 747 s (12m 27s).\n",
      "\u001b[0m21/07/2023 16:08:57.650   Starting setup output...\n",
      "\u001b[32m21/07/2023 16:08:57.650 - Finished setup output in 0.0 s.\n",
      "\u001b[0m21/07/2023 16:08:57.650   Starting the run...\n",
      "21/07/2023 16:08:57.650   Starting primary emission...\n",
      "21/07/2023 16:08:57.650   Launching 2e7 primary emission photon packets\n"
     ]
    },
    {
     "name": "stdout",
     "output_type": "stream",
     "text": [
      "21/07/2023 16:09:02.822   Launched primary emission photon packets: 0.5%\n",
      "21/07/2023 16:09:07.856   Launched primary emission photon packets: 1.2%\n",
      "21/07/2023 16:09:13.016   Launched primary emission photon packets: 1.8%\n",
      "21/07/2023 16:09:18.064   Launched primary emission photon packets: 2.4%\n",
      "21/07/2023 16:09:23.068   Launched primary emission photon packets: 2.9%\n",
      "21/07/2023 16:09:28.231   Launched primary emission photon packets: 3.5%\n",
      "21/07/2023 16:09:33.243   Launched primary emission photon packets: 4.0%\n",
      "21/07/2023 16:09:38.278   Launched primary emission photon packets: 4.5%\n",
      "21/07/2023 16:09:43.280   Launched primary emission photon packets: 5.1%\n",
      "21/07/2023 16:09:48.306   Launched primary emission photon packets: 5.6%\n",
      "21/07/2023 16:09:53.360   Launched primary emission photon packets: 6.2%\n",
      "21/07/2023 16:09:58.376   Launched primary emission photon packets: 6.7%\n",
      "21/07/2023 16:10:03.384   Launched primary emission photon packets: 7.2%\n",
      "21/07/2023 16:10:08.387   Launched primary emission photon packets: 7.8%\n",
      "21/07/2023 16:10:13.438   Launched primary emission photon packets: 8.3%\n",
      "21/07/2023 16:10:18.495   Launched primary emission photon packets: 8.9%\n",
      "21/07/2023 16:10:23.513   Launched primary emission photon packets: 9.4%\n",
      "21/07/2023 16:10:28.540   Launched primary emission photon packets: 9.9%\n",
      "21/07/2023 16:10:33.541   Launched primary emission photon packets: 10.5%\n",
      "21/07/2023 16:10:38.590   Launched primary emission photon packets: 11.0%\n",
      "21/07/2023 16:10:43.590   Launched primary emission photon packets: 11.5%\n",
      "21/07/2023 16:10:48.614   Launched primary emission photon packets: 12.0%\n",
      "21/07/2023 16:10:53.634   Launched primary emission photon packets: 12.5%\n",
      "21/07/2023 16:10:58.686   Launched primary emission photon packets: 13.0%\n",
      "21/07/2023 16:11:03.838   Launched primary emission photon packets: 13.6%\n",
      "21/07/2023 16:11:08.844   Launched primary emission photon packets: 14.1%\n",
      "21/07/2023 16:11:13.892   Launched primary emission photon packets: 14.6%\n",
      "21/07/2023 16:11:18.913   Launched primary emission photon packets: 15.1%\n",
      "21/07/2023 16:11:23.950   Launched primary emission photon packets: 15.7%\n",
      "21/07/2023 16:11:28.987   Launched primary emission photon packets: 16.2%\n",
      "21/07/2023 16:11:33.991   Launched primary emission photon packets: 16.7%\n",
      "21/07/2023 16:11:39.003   Launched primary emission photon packets: 17.2%\n",
      "21/07/2023 16:11:44.023   Launched primary emission photon packets: 17.7%\n",
      "21/07/2023 16:11:49.088   Launched primary emission photon packets: 18.3%\n",
      "21/07/2023 16:11:54.101   Launched primary emission photon packets: 18.8%\n",
      "21/07/2023 16:11:59.278   Launched primary emission photon packets: 19.3%\n",
      "21/07/2023 16:12:04.338   Launched primary emission photon packets: 19.8%\n",
      "21/07/2023 16:12:09.376   Launched primary emission photon packets: 20.3%\n",
      "21/07/2023 16:12:14.382   Launched primary emission photon packets: 20.9%\n",
      "21/07/2023 16:12:19.424   Launched primary emission photon packets: 21.4%\n",
      "21/07/2023 16:12:24.448   Launched primary emission photon packets: 21.9%\n",
      "21/07/2023 16:12:29.455   Launched primary emission photon packets: 22.4%\n",
      "21/07/2023 16:12:34.502   Launched primary emission photon packets: 22.9%\n",
      "21/07/2023 16:12:39.504   Launched primary emission photon packets: 23.5%\n",
      "21/07/2023 16:12:44.529   Launched primary emission photon packets: 24.0%\n",
      "21/07/2023 16:12:49.535   Launched primary emission photon packets: 24.5%\n",
      "21/07/2023 16:12:54.537   Launched primary emission photon packets: 25.1%\n",
      "21/07/2023 16:12:59.571   Launched primary emission photon packets: 25.6%\n",
      "21/07/2023 16:13:04.600   Launched primary emission photon packets: 26.3%\n",
      "21/07/2023 16:13:09.672   Launched primary emission photon packets: 27.0%\n",
      "21/07/2023 16:13:14.694   Launched primary emission photon packets: 27.6%\n",
      "21/07/2023 16:13:19.750   Launched primary emission photon packets: 28.4%\n",
      "21/07/2023 16:13:24.811   Launched primary emission photon packets: 29.1%\n",
      "21/07/2023 16:13:29.816   Launched primary emission photon packets: 29.8%\n",
      "21/07/2023 16:13:34.830   Launched primary emission photon packets: 30.7%\n",
      "21/07/2023 16:13:39.846   Launched primary emission photon packets: 31.5%\n",
      "21/07/2023 16:13:44.970   Launched primary emission photon packets: 32.3%\n",
      "21/07/2023 16:13:50.031   Launched primary emission photon packets: 33.0%\n",
      "21/07/2023 16:13:55.045   Launched primary emission photon packets: 33.7%\n",
      "21/07/2023 16:14:00.045   Launched primary emission photon packets: 34.4%\n",
      "21/07/2023 16:14:05.045   Launched primary emission photon packets: 35.1%\n",
      "21/07/2023 16:14:10.136   Launched primary emission photon packets: 35.8%\n",
      "21/07/2023 16:14:15.141   Launched primary emission photon packets: 36.4%\n",
      "21/07/2023 16:14:20.200   Launched primary emission photon packets: 37.1%\n",
      "21/07/2023 16:14:25.203   Launched primary emission photon packets: 37.7%\n",
      "21/07/2023 16:14:30.204   Launched primary emission photon packets: 38.3%\n",
      "21/07/2023 16:14:35.210   Launched primary emission photon packets: 38.8%\n",
      "21/07/2023 16:14:40.284   Launched primary emission photon packets: 39.4%\n",
      "21/07/2023 16:14:45.323   Launched primary emission photon packets: 40.1%\n",
      "21/07/2023 16:14:50.447   Launched primary emission photon packets: 40.7%\n",
      "21/07/2023 16:14:55.497   Launched primary emission photon packets: 41.4%\n",
      "21/07/2023 16:15:00.534   Launched primary emission photon packets: 42.1%\n",
      "21/07/2023 16:15:05.572   Launched primary emission photon packets: 42.9%\n",
      "21/07/2023 16:15:10.606   Launched primary emission photon packets: 43.8%\n",
      "21/07/2023 16:15:15.613   Launched primary emission photon packets: 44.7%\n",
      "21/07/2023 16:15:20.707   Launched primary emission photon packets: 45.7%\n",
      "21/07/2023 16:15:25.719   Launched primary emission photon packets: 46.7%\n",
      "21/07/2023 16:15:30.752   Launched primary emission photon packets: 48.0%\n",
      "21/07/2023 16:15:35.766   Launched primary emission photon packets: 49.4%\n",
      "21/07/2023 16:15:40.775   Launched primary emission photon packets: 50.7%\n",
      "21/07/2023 16:15:45.775   Launched primary emission photon packets: 52.1%\n",
      "21/07/2023 16:15:50.798   Launched primary emission photon packets: 53.5%\n",
      "21/07/2023 16:15:55.823   Launched primary emission photon packets: 54.7%\n",
      "21/07/2023 16:16:00.837   Launched primary emission photon packets: 56.1%\n",
      "21/07/2023 16:16:05.838   Launched primary emission photon packets: 57.7%\n",
      "21/07/2023 16:16:10.846   Launched primary emission photon packets: 59.2%\n",
      "21/07/2023 16:16:15.862   Launched primary emission photon packets: 61.2%\n",
      "21/07/2023 16:16:20.883   Launched primary emission photon packets: 63.4%\n",
      "21/07/2023 16:16:25.886   Launched primary emission photon packets: 65.8%\n",
      "21/07/2023 16:16:30.898   Launched primary emission photon packets: 68.5%\n",
      "21/07/2023 16:16:35.923   Launched primary emission photon packets: 71.0%\n",
      "21/07/2023 16:16:40.943   Launched primary emission photon packets: 73.8%\n",
      "21/07/2023 16:16:45.949   Launched primary emission photon packets: 76.7%\n",
      "21/07/2023 16:16:50.956   Launched primary emission photon packets: 79.7%\n",
      "21/07/2023 16:16:55.957   Launched primary emission photon packets: 82.5%\n",
      "21/07/2023 16:17:00.961   Launched primary emission photon packets: 85.6%\n",
      "21/07/2023 16:17:05.975   Launched primary emission photon packets: 89.3%\n",
      "21/07/2023 16:17:10.997   Launched primary emission photon packets: 93.6%\n",
      "21/07/2023 16:17:16.002   Launched primary emission photon packets: 97.7%\n",
      "21/07/2023 16:17:21.101   Launched primary emission photon packets: 99.7%\n",
      "21/07/2023 16:17:26.245   Launched primary emission photon packets: 100.0%\n",
      "\u001b[32m21/07/2023 16:17:26.389 - Finished primary emission in 509 s (8m 29s).\n",
      "\u001b[0m\u001b[32m21/07/2023 16:17:26.389 - Finished the run in 509 s (8m 29s).\n",
      "\u001b[0m21/07/2023 16:17:26.389   Starting final output...\n",
      "21/07/2023 16:17:26.524   FullInstrument rot_000_000 wrote SED to /home/jangjk/SKIRT_DIR/rur_dir/testing/result/nh_ext_rot_000_000_sed.dat\n",
      "21/07/2023 16:17:26.683   FullInstrument rot_000_000 wrote total flux to FITS file /home/jangjk/SKIRT_DIR/rur_dir/testing/result/nh_ext_rot_000_000_total.fits\n",
      "21/07/2023 16:17:26.759   FullInstrument rot_000_000 wrote transparent flux to FITS file /home/jangjk/SKIRT_DIR/rur_dir/testing/result/nh_ext_rot_000_000_transparent.fits\n",
      "21/07/2023 16:17:26.834   FullInstrument rot_000_000 wrote primarydirect flux to FITS file /home/jangjk/SKIRT_DIR/rur_dir/testing/result/nh_ext_rot_000_000_primarydirect.fits\n",
      "21/07/2023 16:17:26.909   FullInstrument rot_000_000 wrote primaryscattered flux to FITS file /home/jangjk/SKIRT_DIR/rur_dir/testing/result/nh_ext_rot_000_000_primaryscattered.fits\n",
      "21/07/2023 16:17:26.950   SEDInstrument rot_000_000_05 wrote SED to /home/jangjk/SKIRT_DIR/rur_dir/testing/result/nh_ext_rot_000_000_05_sed.dat\n"
     ]
    },
    {
     "name": "stdout",
     "output_type": "stream",
     "text": [
      "21/07/2023 16:17:26.983   SEDInstrument rot_000_000_10 wrote SED to /home/jangjk/SKIRT_DIR/rur_dir/testing/result/nh_ext_rot_000_000_10_sed.dat\n",
      "21/07/2023 16:17:27.016   SEDInstrument rot_000_000_15 wrote SED to /home/jangjk/SKIRT_DIR/rur_dir/testing/result/nh_ext_rot_000_000_15_sed.dat\n",
      "21/07/2023 16:17:27.049   SEDInstrument rot_000_000_20 wrote SED to /home/jangjk/SKIRT_DIR/rur_dir/testing/result/nh_ext_rot_000_000_20_sed.dat\n",
      "21/07/2023 16:17:27.175   FullInstrument rot_010_000 wrote SED to /home/jangjk/SKIRT_DIR/rur_dir/testing/result/nh_ext_rot_010_000_sed.dat\n",
      "21/07/2023 16:17:27.334   FullInstrument rot_010_000 wrote total flux to FITS file /home/jangjk/SKIRT_DIR/rur_dir/testing/result/nh_ext_rot_010_000_total.fits\n",
      "21/07/2023 16:17:27.411   FullInstrument rot_010_000 wrote transparent flux to FITS file /home/jangjk/SKIRT_DIR/rur_dir/testing/result/nh_ext_rot_010_000_transparent.fits\n",
      "21/07/2023 16:17:27.486   FullInstrument rot_010_000 wrote primarydirect flux to FITS file /home/jangjk/SKIRT_DIR/rur_dir/testing/result/nh_ext_rot_010_000_primarydirect.fits\n",
      "21/07/2023 16:17:27.562   FullInstrument rot_010_000 wrote primaryscattered flux to FITS file /home/jangjk/SKIRT_DIR/rur_dir/testing/result/nh_ext_rot_010_000_primaryscattered.fits\n",
      "21/07/2023 16:17:27.602   SEDInstrument rot_010_000_05 wrote SED to /home/jangjk/SKIRT_DIR/rur_dir/testing/result/nh_ext_rot_010_000_05_sed.dat\n",
      "21/07/2023 16:17:27.635   SEDInstrument rot_010_000_10 wrote SED to /home/jangjk/SKIRT_DIR/rur_dir/testing/result/nh_ext_rot_010_000_10_sed.dat\n",
      "21/07/2023 16:17:27.668   SEDInstrument rot_010_000_15 wrote SED to /home/jangjk/SKIRT_DIR/rur_dir/testing/result/nh_ext_rot_010_000_15_sed.dat\n",
      "21/07/2023 16:17:27.701   SEDInstrument rot_010_000_20 wrote SED to /home/jangjk/SKIRT_DIR/rur_dir/testing/result/nh_ext_rot_010_000_20_sed.dat\n",
      "21/07/2023 16:17:27.828   FullInstrument rot_020_000 wrote SED to /home/jangjk/SKIRT_DIR/rur_dir/testing/result/nh_ext_rot_020_000_sed.dat\n",
      "21/07/2023 16:17:27.987   FullInstrument rot_020_000 wrote total flux to FITS file /home/jangjk/SKIRT_DIR/rur_dir/testing/result/nh_ext_rot_020_000_total.fits\n",
      "21/07/2023 16:17:28.063   FullInstrument rot_020_000 wrote transparent flux to FITS file /home/jangjk/SKIRT_DIR/rur_dir/testing/result/nh_ext_rot_020_000_transparent.fits\n",
      "21/07/2023 16:17:28.138   FullInstrument rot_020_000 wrote primarydirect flux to FITS file /home/jangjk/SKIRT_DIR/rur_dir/testing/result/nh_ext_rot_020_000_primarydirect.fits\n",
      "21/07/2023 16:17:28.212   FullInstrument rot_020_000 wrote primaryscattered flux to FITS file /home/jangjk/SKIRT_DIR/rur_dir/testing/result/nh_ext_rot_020_000_primaryscattered.fits\n",
      "21/07/2023 16:17:28.253   SEDInstrument rot_020_000_05 wrote SED to /home/jangjk/SKIRT_DIR/rur_dir/testing/result/nh_ext_rot_020_000_05_sed.dat\n",
      "21/07/2023 16:17:28.286   SEDInstrument rot_020_000_10 wrote SED to /home/jangjk/SKIRT_DIR/rur_dir/testing/result/nh_ext_rot_020_000_10_sed.dat\n",
      "21/07/2023 16:17:28.319   SEDInstrument rot_020_000_15 wrote SED to /home/jangjk/SKIRT_DIR/rur_dir/testing/result/nh_ext_rot_020_000_15_sed.dat\n",
      "21/07/2023 16:17:28.352   SEDInstrument rot_020_000_20 wrote SED to /home/jangjk/SKIRT_DIR/rur_dir/testing/result/nh_ext_rot_020_000_20_sed.dat\n",
      "21/07/2023 16:17:28.473   FullInstrument rot_030_000 wrote SED to /home/jangjk/SKIRT_DIR/rur_dir/testing/result/nh_ext_rot_030_000_sed.dat\n",
      "21/07/2023 16:17:28.633   FullInstrument rot_030_000 wrote total flux to FITS file /home/jangjk/SKIRT_DIR/rur_dir/testing/result/nh_ext_rot_030_000_total.fits\n",
      "21/07/2023 16:17:28.708   FullInstrument rot_030_000 wrote transparent flux to FITS file /home/jangjk/SKIRT_DIR/rur_dir/testing/result/nh_ext_rot_030_000_transparent.fits\n",
      "21/07/2023 16:17:28.783   FullInstrument rot_030_000 wrote primarydirect flux to FITS file /home/jangjk/SKIRT_DIR/rur_dir/testing/result/nh_ext_rot_030_000_primarydirect.fits\n",
      "21/07/2023 16:17:28.858   FullInstrument rot_030_000 wrote primaryscattered flux to FITS file /home/jangjk/SKIRT_DIR/rur_dir/testing/result/nh_ext_rot_030_000_primaryscattered.fits\n",
      "21/07/2023 16:17:28.899   SEDInstrument rot_030_000_05 wrote SED to /home/jangjk/SKIRT_DIR/rur_dir/testing/result/nh_ext_rot_030_000_05_sed.dat\n",
      "21/07/2023 16:17:28.932   SEDInstrument rot_030_000_10 wrote SED to /home/jangjk/SKIRT_DIR/rur_dir/testing/result/nh_ext_rot_030_000_10_sed.dat\n",
      "21/07/2023 16:17:28.965   SEDInstrument rot_030_000_15 wrote SED to /home/jangjk/SKIRT_DIR/rur_dir/testing/result/nh_ext_rot_030_000_15_sed.dat\n",
      "21/07/2023 16:17:28.998   SEDInstrument rot_030_000_20 wrote SED to /home/jangjk/SKIRT_DIR/rur_dir/testing/result/nh_ext_rot_030_000_20_sed.dat\n",
      "21/07/2023 16:17:29.115   FullInstrument rot_040_000 wrote SED to /home/jangjk/SKIRT_DIR/rur_dir/testing/result/nh_ext_rot_040_000_sed.dat\n",
      "21/07/2023 16:17:29.275   FullInstrument rot_040_000 wrote total flux to FITS file /home/jangjk/SKIRT_DIR/rur_dir/testing/result/nh_ext_rot_040_000_total.fits\n",
      "21/07/2023 16:17:29.352   FullInstrument rot_040_000 wrote transparent flux to FITS file /home/jangjk/SKIRT_DIR/rur_dir/testing/result/nh_ext_rot_040_000_transparent.fits\n",
      "21/07/2023 16:17:29.428   FullInstrument rot_040_000 wrote primarydirect flux to FITS file /home/jangjk/SKIRT_DIR/rur_dir/testing/result/nh_ext_rot_040_000_primarydirect.fits\n",
      "21/07/2023 16:17:29.503   FullInstrument rot_040_000 wrote primaryscattered flux to FITS file /home/jangjk/SKIRT_DIR/rur_dir/testing/result/nh_ext_rot_040_000_primaryscattered.fits\n",
      "21/07/2023 16:17:29.549   SEDInstrument rot_040_000_05 wrote SED to /home/jangjk/SKIRT_DIR/rur_dir/testing/result/nh_ext_rot_040_000_05_sed.dat\n",
      "21/07/2023 16:17:29.582   SEDInstrument rot_040_000_10 wrote SED to /home/jangjk/SKIRT_DIR/rur_dir/testing/result/nh_ext_rot_040_000_10_sed.dat\n",
      "21/07/2023 16:17:29.616   SEDInstrument rot_040_000_15 wrote SED to /home/jangjk/SKIRT_DIR/rur_dir/testing/result/nh_ext_rot_040_000_15_sed.dat\n",
      "21/07/2023 16:17:29.649   SEDInstrument rot_040_000_20 wrote SED to /home/jangjk/SKIRT_DIR/rur_dir/testing/result/nh_ext_rot_040_000_20_sed.dat\n",
      "21/07/2023 16:17:29.765   FullInstrument rot_050_000 wrote SED to /home/jangjk/SKIRT_DIR/rur_dir/testing/result/nh_ext_rot_050_000_sed.dat\n",
      "21/07/2023 16:17:29.924   FullInstrument rot_050_000 wrote total flux to FITS file /home/jangjk/SKIRT_DIR/rur_dir/testing/result/nh_ext_rot_050_000_total.fits\n",
      "21/07/2023 16:17:30.001   FullInstrument rot_050_000 wrote transparent flux to FITS file /home/jangjk/SKIRT_DIR/rur_dir/testing/result/nh_ext_rot_050_000_transparent.fits\n",
      "21/07/2023 16:17:30.075   FullInstrument rot_050_000 wrote primarydirect flux to FITS file /home/jangjk/SKIRT_DIR/rur_dir/testing/result/nh_ext_rot_050_000_primarydirect.fits\n",
      "21/07/2023 16:17:30.147   FullInstrument rot_050_000 wrote primaryscattered flux to FITS file /home/jangjk/SKIRT_DIR/rur_dir/testing/result/nh_ext_rot_050_000_primaryscattered.fits\n",
      "21/07/2023 16:17:30.188   SEDInstrument rot_050_000_05 wrote SED to /home/jangjk/SKIRT_DIR/rur_dir/testing/result/nh_ext_rot_050_000_05_sed.dat\n",
      "21/07/2023 16:17:30.221   SEDInstrument rot_050_000_10 wrote SED to /home/jangjk/SKIRT_DIR/rur_dir/testing/result/nh_ext_rot_050_000_10_sed.dat\n",
      "21/07/2023 16:17:30.254   SEDInstrument rot_050_000_15 wrote SED to /home/jangjk/SKIRT_DIR/rur_dir/testing/result/nh_ext_rot_050_000_15_sed.dat\n",
      "21/07/2023 16:17:30.286   SEDInstrument rot_050_000_20 wrote SED to /home/jangjk/SKIRT_DIR/rur_dir/testing/result/nh_ext_rot_050_000_20_sed.dat\n",
      "21/07/2023 16:17:30.401   FullInstrument rot_060_000 wrote SED to /home/jangjk/SKIRT_DIR/rur_dir/testing/result/nh_ext_rot_060_000_sed.dat\n",
      "21/07/2023 16:17:30.556   FullInstrument rot_060_000 wrote total flux to FITS file /home/jangjk/SKIRT_DIR/rur_dir/testing/result/nh_ext_rot_060_000_total.fits\n",
      "21/07/2023 16:17:30.630   FullInstrument rot_060_000 wrote transparent flux to FITS file /home/jangjk/SKIRT_DIR/rur_dir/testing/result/nh_ext_rot_060_000_transparent.fits\n",
      "21/07/2023 16:17:30.700   FullInstrument rot_060_000 wrote primarydirect flux to FITS file /home/jangjk/SKIRT_DIR/rur_dir/testing/result/nh_ext_rot_060_000_primarydirect.fits\n",
      "21/07/2023 16:17:30.771   FullInstrument rot_060_000 wrote primaryscattered flux to FITS file /home/jangjk/SKIRT_DIR/rur_dir/testing/result/nh_ext_rot_060_000_primaryscattered.fits\n",
      "21/07/2023 16:17:30.811   SEDInstrument rot_060_000_05 wrote SED to /home/jangjk/SKIRT_DIR/rur_dir/testing/result/nh_ext_rot_060_000_05_sed.dat\n"
     ]
    },
    {
     "name": "stdout",
     "output_type": "stream",
     "text": [
      "21/07/2023 16:17:30.844   SEDInstrument rot_060_000_10 wrote SED to /home/jangjk/SKIRT_DIR/rur_dir/testing/result/nh_ext_rot_060_000_10_sed.dat\n",
      "21/07/2023 16:17:30.877   SEDInstrument rot_060_000_15 wrote SED to /home/jangjk/SKIRT_DIR/rur_dir/testing/result/nh_ext_rot_060_000_15_sed.dat\n",
      "21/07/2023 16:17:30.910   SEDInstrument rot_060_000_20 wrote SED to /home/jangjk/SKIRT_DIR/rur_dir/testing/result/nh_ext_rot_060_000_20_sed.dat\n",
      "21/07/2023 16:17:31.023   FullInstrument rot_070_000 wrote SED to /home/jangjk/SKIRT_DIR/rur_dir/testing/result/nh_ext_rot_070_000_sed.dat\n",
      "21/07/2023 16:17:31.179   FullInstrument rot_070_000 wrote total flux to FITS file /home/jangjk/SKIRT_DIR/rur_dir/testing/result/nh_ext_rot_070_000_total.fits\n",
      "21/07/2023 16:17:31.258   FullInstrument rot_070_000 wrote transparent flux to FITS file /home/jangjk/SKIRT_DIR/rur_dir/testing/result/nh_ext_rot_070_000_transparent.fits\n",
      "21/07/2023 16:17:31.331   FullInstrument rot_070_000 wrote primarydirect flux to FITS file /home/jangjk/SKIRT_DIR/rur_dir/testing/result/nh_ext_rot_070_000_primarydirect.fits\n",
      "21/07/2023 16:17:31.401   FullInstrument rot_070_000 wrote primaryscattered flux to FITS file /home/jangjk/SKIRT_DIR/rur_dir/testing/result/nh_ext_rot_070_000_primaryscattered.fits\n",
      "21/07/2023 16:17:31.442   SEDInstrument rot_070_000_05 wrote SED to /home/jangjk/SKIRT_DIR/rur_dir/testing/result/nh_ext_rot_070_000_05_sed.dat\n",
      "21/07/2023 16:17:31.475   SEDInstrument rot_070_000_10 wrote SED to /home/jangjk/SKIRT_DIR/rur_dir/testing/result/nh_ext_rot_070_000_10_sed.dat\n",
      "21/07/2023 16:17:31.508   SEDInstrument rot_070_000_15 wrote SED to /home/jangjk/SKIRT_DIR/rur_dir/testing/result/nh_ext_rot_070_000_15_sed.dat\n",
      "21/07/2023 16:17:31.541   SEDInstrument rot_070_000_20 wrote SED to /home/jangjk/SKIRT_DIR/rur_dir/testing/result/nh_ext_rot_070_000_20_sed.dat\n",
      "21/07/2023 16:17:31.651   FullInstrument rot_080_000 wrote SED to /home/jangjk/SKIRT_DIR/rur_dir/testing/result/nh_ext_rot_080_000_sed.dat\n",
      "21/07/2023 16:17:31.803   FullInstrument rot_080_000 wrote total flux to FITS file /home/jangjk/SKIRT_DIR/rur_dir/testing/result/nh_ext_rot_080_000_total.fits\n",
      "21/07/2023 16:17:31.880   FullInstrument rot_080_000 wrote transparent flux to FITS file /home/jangjk/SKIRT_DIR/rur_dir/testing/result/nh_ext_rot_080_000_transparent.fits\n",
      "21/07/2023 16:17:31.953   FullInstrument rot_080_000 wrote primarydirect flux to FITS file /home/jangjk/SKIRT_DIR/rur_dir/testing/result/nh_ext_rot_080_000_primarydirect.fits\n",
      "21/07/2023 16:17:32.023   FullInstrument rot_080_000 wrote primaryscattered flux to FITS file /home/jangjk/SKIRT_DIR/rur_dir/testing/result/nh_ext_rot_080_000_primaryscattered.fits\n",
      "21/07/2023 16:17:32.063   SEDInstrument rot_080_000_05 wrote SED to /home/jangjk/SKIRT_DIR/rur_dir/testing/result/nh_ext_rot_080_000_05_sed.dat\n",
      "21/07/2023 16:17:32.096   SEDInstrument rot_080_000_10 wrote SED to /home/jangjk/SKIRT_DIR/rur_dir/testing/result/nh_ext_rot_080_000_10_sed.dat\n",
      "21/07/2023 16:17:32.130   SEDInstrument rot_080_000_15 wrote SED to /home/jangjk/SKIRT_DIR/rur_dir/testing/result/nh_ext_rot_080_000_15_sed.dat\n",
      "21/07/2023 16:17:32.163   SEDInstrument rot_080_000_20 wrote SED to /home/jangjk/SKIRT_DIR/rur_dir/testing/result/nh_ext_rot_080_000_20_sed.dat\n",
      "21/07/2023 16:17:32.268   FullInstrument rot_090_000 wrote SED to /home/jangjk/SKIRT_DIR/rur_dir/testing/result/nh_ext_rot_090_000_sed.dat\n",
      "21/07/2023 16:17:32.422   FullInstrument rot_090_000 wrote total flux to FITS file /home/jangjk/SKIRT_DIR/rur_dir/testing/result/nh_ext_rot_090_000_total.fits\n",
      "21/07/2023 16:17:32.495   FullInstrument rot_090_000 wrote transparent flux to FITS file /home/jangjk/SKIRT_DIR/rur_dir/testing/result/nh_ext_rot_090_000_transparent.fits\n",
      "21/07/2023 16:17:32.566   FullInstrument rot_090_000 wrote primarydirect flux to FITS file /home/jangjk/SKIRT_DIR/rur_dir/testing/result/nh_ext_rot_090_000_primarydirect.fits\n",
      "21/07/2023 16:17:32.633   FullInstrument rot_090_000 wrote primaryscattered flux to FITS file /home/jangjk/SKIRT_DIR/rur_dir/testing/result/nh_ext_rot_090_000_primaryscattered.fits\n",
      "21/07/2023 16:17:32.674   SEDInstrument rot_090_000_05 wrote SED to /home/jangjk/SKIRT_DIR/rur_dir/testing/result/nh_ext_rot_090_000_05_sed.dat\n",
      "21/07/2023 16:17:32.706   SEDInstrument rot_090_000_10 wrote SED to /home/jangjk/SKIRT_DIR/rur_dir/testing/result/nh_ext_rot_090_000_10_sed.dat\n",
      "21/07/2023 16:17:32.739   SEDInstrument rot_090_000_15 wrote SED to /home/jangjk/SKIRT_DIR/rur_dir/testing/result/nh_ext_rot_090_000_15_sed.dat\n",
      "21/07/2023 16:17:32.772   SEDInstrument rot_090_000_20 wrote SED to /home/jangjk/SKIRT_DIR/rur_dir/testing/result/nh_ext_rot_090_000_20_sed.dat\n",
      "\u001b[32m21/07/2023 16:17:32.773 - Finished final output in 6.4 s.\n",
      "\u001b[0m\u001b[32m21/07/2023 16:17:32.773 - Finished simulation nh_ext using 40 threads and a single process in 1262 s (21m 2s).\n",
      "\u001b[0m21/07/2023 16:17:38.891   Available memory: 315 GB -- Peak memory usage: 6.93 GB (2.2%)\n"
     ]
    }
   ],
   "source": [
    "rur.rskirt.utils.execute_SKIRT.make_INSKI(\n",
    "                                           snap=snap,\n",
    "                                           star=star,\n",
    "                                           cell=cell,\n",
    "                                           param=par,\n",
    "                                           pos_ctr=[gal['x'],gal['y'],gal['z']],\n",
    "                                           vel_ctr=[gal['vx'],gal['vy'],gal['vz']],\n",
    "                                            )"
   ]
  },
  {
   "cell_type": "code",
   "execution_count": null,
   "metadata": {
    "ExecuteTime": {
     "end_time": "2023-07-21T05:38:24.899473Z",
     "start_time": "2023-07-21T05:38:24.895031Z"
    }
   },
   "outputs": [],
   "source": []
  },
  {
   "cell_type": "code",
   "execution_count": null,
   "metadata": {},
   "outputs": [],
   "source": []
  }
 ],
 "metadata": {
  "kernelspec": {
   "display_name": "Python 3",
   "language": "python",
   "name": "python3"
  },
  "language_info": {
   "codemirror_mode": {
    "name": "ipython",
    "version": 3
   },
   "file_extension": ".py",
   "mimetype": "text/x-python",
   "name": "python",
   "nbconvert_exporter": "python",
   "pygments_lexer": "ipython3",
   "version": "3.8.5"
  },
  "toc": {
   "base_numbering": 1,
   "nav_menu": {},
   "number_sections": true,
   "sideBar": true,
   "skip_h1_title": false,
   "title_cell": "Table of Contents",
   "title_sidebar": "Contents",
   "toc_cell": false,
   "toc_position": {
    "height": "calc(100% - 180px)",
    "left": "10px",
    "top": "150px",
    "width": "341.331px"
   },
   "toc_section_display": true,
   "toc_window_display": false
  }
 },
 "nbformat": 4,
 "nbformat_minor": 4
}
